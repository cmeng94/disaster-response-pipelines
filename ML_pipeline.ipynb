{
 "cells": [
  {
   "cell_type": "markdown",
   "metadata": {},
   "source": [
    "# ML Pipeline Preparation\n",
    "### 1. Import libraries and load data from database"
   ]
  },
  {
   "cell_type": "code",
   "execution_count": 1,
   "metadata": {},
   "outputs": [
    {
     "name": "stderr",
     "output_type": "stream",
     "text": [
      "[nltk_data] Downloading package punkt to /Users/chang/nltk_data...\n",
      "[nltk_data]   Package punkt is already up-to-date!\n",
      "[nltk_data] Downloading package stopwords to /Users/chang/nltk_data...\n",
      "[nltk_data]   Package stopwords is already up-to-date!\n",
      "[nltk_data] Downloading package wordnet to /Users/chang/nltk_data...\n",
      "[nltk_data]   Package wordnet is already up-to-date!\n"
     ]
    }
   ],
   "source": [
    "# import libraries\n",
    "import numpy as np\n",
    "import pandas as pd\n",
    "from sqlalchemy import create_engine\n",
    "\n",
    "import re\n",
    "import time\n",
    "import nltk\n",
    "from nltk.corpus import stopwords\n",
    "from nltk.stem.wordnet import WordNetLemmatizer\n",
    "from nltk.tokenize import word_tokenize\n",
    "\n",
    "nltk.download('punkt')\n",
    "nltk.download('stopwords')\n",
    "nltk.download('wordnet')\n",
    "\n",
    "from sklearn.metrics import classification_report\n",
    "from sklearn.ensemble import RandomForestClassifier\n",
    "from sklearn.multioutput import MultiOutputClassifier\n",
    "from sklearn.model_selection import train_test_split, GridSearchCV\n",
    "from sklearn.pipeline import Pipeline, FeatureUnion\n",
    "from sklearn.base import BaseEstimator, TransformerMixin\n",
    "from sklearn.feature_extraction.text import CountVectorizer, TfidfTransformer\n",
    "import pickle"
   ]
  },
  {
   "cell_type": "code",
   "execution_count": 2,
   "metadata": {},
   "outputs": [],
   "source": [
    "# load data from database\n",
    "engine = create_engine('sqlite:///data/DisasterResponse.db')\n",
    "df = pd.read_sql_table('cleaned_data', engine)\n",
    "X = df['message'].values\n",
    "Y = df.iloc[:,4:]\n",
    "\n",
    "# split to training and testing sets\n",
    "X_train, X_test, Y_train, Y_test = train_test_split(X, Y)"
   ]
  },
  {
   "cell_type": "markdown",
   "metadata": {},
   "source": [
    "### 2. Write tokenization function to process text data"
   ]
  },
  {
   "cell_type": "code",
   "execution_count": 3,
   "metadata": {},
   "outputs": [],
   "source": [
    "def tokenize(text):\n",
    "\n",
    "    '''\n",
    "    The function loads cleaned data set.\n",
    "\n",
    "    Input:\n",
    "    database_filepath: path to cleaned data set\n",
    "\n",
    "    Output:\n",
    "    X: column of loaded data set containing messages\n",
    "    Y: columns of loaded data set containing categories of messages\n",
    "    category_names: names of categories\n",
    "    '''\n",
    "    \n",
    "    # replace urls with urlplaceholder\n",
    "    url_regex = 'http[s]?://(?:[a-zA-Z]|[0-9]|[$-_@.&+]|[!*\\(\\),]|(?:%[0-9a-fA-F][0-9a-fA-F]))+'\n",
    "    detected_urls = re.findall(url_regex, text)\n",
    "    for url in detected_urls:\n",
    "        text = text.replace(url, \"urlplaceholder\")    \n",
    "    \n",
    "    # normalize, remove puntuations, tokenize, remove stopwords and lemmatize\n",
    "    text = re.sub(r\"[^a-zA-Z0-9]\", \" \", text.lower())\n",
    "    tokens = word_tokenize(text)\n",
    "    tokens = [WordNetLemmatizer().lemmatize(word) for word in tokens if word not in stopwords.words(\"english\")]\n",
    "    \n",
    "    return tokens"
   ]
  },
  {
   "cell_type": "markdown",
   "metadata": {},
   "source": [
    "### 3. Build a machine learning pipeline"
   ]
  },
  {
   "cell_type": "code",
   "execution_count": 4,
   "metadata": {},
   "outputs": [],
   "source": [
    "# build ML pipeline that consists of count vectorizer and tf-idf transformers, and random forest classifier\n",
    "pipeline = Pipeline([\n",
    "    ('vect', CountVectorizer(tokenizer=tokenize)),\n",
    "    ('tfidf', TfidfTransformer()),\n",
    "    ('clf', MultiOutputClassifier(RandomForestClassifier()))\n",
    "])"
   ]
  },
  {
   "cell_type": "markdown",
   "metadata": {},
   "source": [
    "### 4. Train pipeline"
   ]
  },
  {
   "cell_type": "code",
   "execution_count": 5,
   "metadata": {},
   "outputs": [
    {
     "name": "stdout",
     "output_type": "stream",
     "text": [
      "430.1894052028656\n"
     ]
    }
   ],
   "source": [
    "# train and time pipeline\n",
    "t0 = time.time()\n",
    "pipeline.fit(X_train, Y_train)\n",
    "Y_pred = pipeline.predict(X_test)\n",
    "print(time.time() - t0)"
   ]
  },
  {
   "cell_type": "markdown",
   "metadata": {},
   "source": [
    "### 5. Test model"
   ]
  },
  {
   "cell_type": "code",
   "execution_count": 6,
   "metadata": {},
   "outputs": [
    {
     "name": "stdout",
     "output_type": "stream",
     "text": [
      "                        precision    recall  f1-score   support\n",
      "\n",
      "               related       0.84      0.95      0.89      5021\n",
      "               request       0.84      0.50      0.63      1104\n",
      "                 offer       0.00      0.00      0.00        29\n",
      "           aid_related       0.75      0.70      0.72      2666\n",
      "          medical_help       0.62      0.06      0.11       491\n",
      "      medical_products       0.86      0.09      0.16       329\n",
      "     search_and_rescue       0.47      0.04      0.08       190\n",
      "              security       0.00      0.00      0.00       116\n",
      "              military       0.70      0.08      0.14       183\n",
      "           child_alone       0.00      0.00      0.00         0\n",
      "                 water       0.88      0.32      0.47       417\n",
      "                  food       0.83      0.65      0.73       714\n",
      "               shelter       0.82      0.37      0.51       602\n",
      "              clothing       1.00      0.08      0.15       110\n",
      "                 money       0.80      0.03      0.05       145\n",
      "        missing_people       0.00      0.00      0.00        78\n",
      "              refugees       0.40      0.01      0.02       229\n",
      "                 death       0.84      0.15      0.25       281\n",
      "             other_aid       0.64      0.04      0.08       875\n",
      "infrastructure_related       0.17      0.00      0.00       438\n",
      "             transport       0.87      0.06      0.12       309\n",
      "             buildings       0.77      0.12      0.21       351\n",
      "           electricity       1.00      0.05      0.10       138\n",
      "                 tools       0.00      0.00      0.00        39\n",
      "             hospitals       0.00      0.00      0.00        71\n",
      "                 shops       0.00      0.00      0.00        29\n",
      "           aid_centers       0.00      0.00      0.00        71\n",
      "  other_infrastructure       0.20      0.00      0.01       297\n",
      "       weather_related       0.85      0.71      0.77      1827\n",
      "                floods       0.89      0.44      0.59       542\n",
      "                 storm       0.79      0.53      0.64       602\n",
      "                  fire       0.00      0.00      0.00        64\n",
      "            earthquake       0.90      0.82      0.85       638\n",
      "                  cold       0.71      0.04      0.07       139\n",
      "         other_weather       0.62      0.03      0.05       358\n",
      "         direct_report       0.78      0.36      0.49      1269\n",
      "\n",
      "             micro avg       0.82      0.53      0.65     20762\n",
      "             macro avg       0.55      0.20      0.25     20762\n",
      "          weighted avg       0.76      0.53      0.57     20762\n",
      "           samples avg       0.67      0.49      0.51     20762\n",
      "\n"
     ]
    },
    {
     "name": "stderr",
     "output_type": "stream",
     "text": [
      "/usr/local/lib/python3.9/site-packages/sklearn/metrics/_classification.py:1248: UndefinedMetricWarning: Precision and F-score are ill-defined and being set to 0.0 in labels with no predicted samples. Use `zero_division` parameter to control this behavior.\n",
      "  _warn_prf(average, modifier, msg_start, len(result))\n",
      "/usr/local/lib/python3.9/site-packages/sklearn/metrics/_classification.py:1248: UndefinedMetricWarning: Recall and F-score are ill-defined and being set to 0.0 in labels with no true samples. Use `zero_division` parameter to control this behavior.\n",
      "  _warn_prf(average, modifier, msg_start, len(result))\n",
      "/usr/local/lib/python3.9/site-packages/sklearn/metrics/_classification.py:1248: UndefinedMetricWarning: Precision and F-score are ill-defined and being set to 0.0 in samples with no predicted labels. Use `zero_division` parameter to control this behavior.\n",
      "  _warn_prf(average, modifier, msg_start, len(result))\n",
      "/usr/local/lib/python3.9/site-packages/sklearn/metrics/_classification.py:1248: UndefinedMetricWarning: Recall and F-score are ill-defined and being set to 0.0 in samples with no true labels. Use `zero_division` parameter to control this behavior.\n",
      "  _warn_prf(average, modifier, msg_start, len(result))\n"
     ]
    }
   ],
   "source": [
    "# print precision, recall, and f1-score of predicted values\n",
    "print(classification_report(Y_test, Y_pred, target_names = Y.columns))"
   ]
  },
  {
   "cell_type": "markdown",
   "metadata": {},
   "source": [
    "### 6. Improve the model using grid search"
   ]
  },
  {
   "cell_type": "code",
   "execution_count": 8,
   "metadata": {},
   "outputs": [
    {
     "data": {
      "text/plain": [
       "{'memory': None,\n",
       " 'steps': [('vect',\n",
       "   CountVectorizer(tokenizer=<function tokenize at 0x1279c7160>)),\n",
       "  ('tfidf', TfidfTransformer()),\n",
       "  ('clf', MultiOutputClassifier(estimator=RandomForestClassifier()))],\n",
       " 'verbose': False,\n",
       " 'vect': CountVectorizer(tokenizer=<function tokenize at 0x1279c7160>),\n",
       " 'tfidf': TfidfTransformer(),\n",
       " 'clf': MultiOutputClassifier(estimator=RandomForestClassifier()),\n",
       " 'vect__analyzer': 'word',\n",
       " 'vect__binary': False,\n",
       " 'vect__decode_error': 'strict',\n",
       " 'vect__dtype': numpy.int64,\n",
       " 'vect__encoding': 'utf-8',\n",
       " 'vect__input': 'content',\n",
       " 'vect__lowercase': True,\n",
       " 'vect__max_df': 1.0,\n",
       " 'vect__max_features': None,\n",
       " 'vect__min_df': 1,\n",
       " 'vect__ngram_range': (1, 1),\n",
       " 'vect__preprocessor': None,\n",
       " 'vect__stop_words': None,\n",
       " 'vect__strip_accents': None,\n",
       " 'vect__token_pattern': '(?u)\\\\b\\\\w\\\\w+\\\\b',\n",
       " 'vect__tokenizer': <function __main__.tokenize(text)>,\n",
       " 'vect__vocabulary': None,\n",
       " 'tfidf__norm': 'l2',\n",
       " 'tfidf__smooth_idf': True,\n",
       " 'tfidf__sublinear_tf': False,\n",
       " 'tfidf__use_idf': True,\n",
       " 'clf__estimator__bootstrap': True,\n",
       " 'clf__estimator__ccp_alpha': 0.0,\n",
       " 'clf__estimator__class_weight': None,\n",
       " 'clf__estimator__criterion': 'gini',\n",
       " 'clf__estimator__max_depth': None,\n",
       " 'clf__estimator__max_features': 'auto',\n",
       " 'clf__estimator__max_leaf_nodes': None,\n",
       " 'clf__estimator__max_samples': None,\n",
       " 'clf__estimator__min_impurity_decrease': 0.0,\n",
       " 'clf__estimator__min_impurity_split': None,\n",
       " 'clf__estimator__min_samples_leaf': 1,\n",
       " 'clf__estimator__min_samples_split': 2,\n",
       " 'clf__estimator__min_weight_fraction_leaf': 0.0,\n",
       " 'clf__estimator__n_estimators': 100,\n",
       " 'clf__estimator__n_jobs': None,\n",
       " 'clf__estimator__oob_score': False,\n",
       " 'clf__estimator__random_state': None,\n",
       " 'clf__estimator__verbose': 0,\n",
       " 'clf__estimator__warm_start': False,\n",
       " 'clf__estimator': RandomForestClassifier(),\n",
       " 'clf__n_jobs': None}"
      ]
     },
     "execution_count": 8,
     "metadata": {},
     "output_type": "execute_result"
    }
   ],
   "source": [
    "# print pipeline parameters\n",
    "pipeline.get_params()"
   ]
  },
  {
   "cell_type": "code",
   "execution_count": 9,
   "metadata": {},
   "outputs": [],
   "source": [
    "# specify parameter grid to be searched on, and define cv pieline\n",
    "parameters = {\n",
    "    'clf__estimator__n_estimators': [25, 50], #50\n",
    "    'clf__estimator__max_depth': [300, 400], #400\n",
    "    'clf__estimator__min_samples_split': [4, 6], #6\n",
    "}\n",
    "\n",
    "cv = GridSearchCV(pipeline, param_grid=parameters)"
   ]
  },
  {
   "cell_type": "code",
   "execution_count": 10,
   "metadata": {},
   "outputs": [
    {
     "name": "stdout",
     "output_type": "stream",
     "text": [
      "4859.257224082947\n"
     ]
    }
   ],
   "source": [
    "# train cv pipeline\n",
    "t0 = time.time()\n",
    "cv.fit(X_train,Y_train)\n",
    "Y_pred_cv = cv.predict(X_test)\n",
    "print(time.time() - t0)"
   ]
  },
  {
   "cell_type": "code",
   "execution_count": 11,
   "metadata": {},
   "outputs": [
    {
     "data": {
      "text/plain": [
       "{'clf__estimator__max_depth': 400,\n",
       " 'clf__estimator__min_samples_split': 6,\n",
       " 'clf__estimator__n_estimators': 50}"
      ]
     },
     "execution_count": 11,
     "metadata": {},
     "output_type": "execute_result"
    }
   ],
   "source": [
    "# print best parameters\n",
    "cv.best_params_"
   ]
  },
  {
   "cell_type": "markdown",
   "metadata": {},
   "source": [
    "### 7. Test tuned model"
   ]
  },
  {
   "cell_type": "code",
   "execution_count": 16,
   "metadata": {},
   "outputs": [
    {
     "name": "stdout",
     "output_type": "stream",
     "text": [
      "                        precision    recall  f1-score   support\n",
      "\n",
      "               related       0.83      0.95      0.89      5075\n",
      "               request       0.86      0.52      0.65      1148\n",
      "                 offer       0.00      0.00      0.00        28\n",
      "           aid_related       0.75      0.72      0.73      2752\n",
      "          medical_help       0.65      0.12      0.20       489\n",
      "      medical_products       0.73      0.06      0.11       324\n",
      "     search_and_rescue       0.56      0.05      0.09       189\n",
      "              security       0.00      0.00      0.00       106\n",
      "              military       0.60      0.07      0.12       219\n",
      "           child_alone       0.00      0.00      0.00         0\n",
      "                 water       0.89      0.33      0.48       427\n",
      "                  food       0.86      0.53      0.65       766\n",
      "               shelter       0.83      0.42      0.56       583\n",
      "              clothing       0.78      0.16      0.26        88\n",
      "                 money       0.50      0.01      0.03       145\n",
      "        missing_people       0.00      0.00      0.00        71\n",
      "              refugees       0.59      0.06      0.10       226\n",
      "                 death       0.87      0.13      0.23       291\n",
      "             other_aid       0.60      0.02      0.04       878\n",
      "infrastructure_related       0.00      0.00      0.00       425\n",
      "             transport       0.85      0.08      0.14       298\n",
      "             buildings       0.70      0.13      0.22       308\n",
      "           electricity       1.00      0.01      0.01       143\n",
      "                 tools       0.00      0.00      0.00        38\n",
      "             hospitals       0.00      0.00      0.00        63\n",
      "                 shops       0.00      0.00      0.00        26\n",
      "           aid_centers       0.00      0.00      0.00        75\n",
      "  other_infrastructure       0.00      0.00      0.00       290\n",
      "       weather_related       0.84      0.70      0.77      1801\n",
      "                floods       0.89      0.48      0.62       550\n",
      "                 storm       0.75      0.52      0.61       588\n",
      "                  fire       1.00      0.01      0.03        77\n",
      "            earthquake       0.89      0.81      0.85       579\n",
      "                  cold       0.91      0.07      0.14       134\n",
      "         other_weather       0.53      0.06      0.10       352\n",
      "         direct_report       0.78      0.38      0.51      1303\n",
      "\n",
      "             micro avg       0.81      0.54      0.65     20855\n",
      "             macro avg       0.56      0.21      0.25     20855\n",
      "          weighted avg       0.75      0.54      0.58     20855\n",
      "           samples avg       0.67      0.49      0.52     20855\n",
      "\n"
     ]
    },
    {
     "name": "stderr",
     "output_type": "stream",
     "text": [
      "/usr/local/lib/python3.9/site-packages/sklearn/metrics/_classification.py:1248: UndefinedMetricWarning: Precision and F-score are ill-defined and being set to 0.0 in labels with no predicted samples. Use `zero_division` parameter to control this behavior.\n",
      "  _warn_prf(average, modifier, msg_start, len(result))\n",
      "/usr/local/lib/python3.9/site-packages/sklearn/metrics/_classification.py:1248: UndefinedMetricWarning: Recall and F-score are ill-defined and being set to 0.0 in labels with no true samples. Use `zero_division` parameter to control this behavior.\n",
      "  _warn_prf(average, modifier, msg_start, len(result))\n",
      "/usr/local/lib/python3.9/site-packages/sklearn/metrics/_classification.py:1248: UndefinedMetricWarning: Precision and F-score are ill-defined and being set to 0.0 in samples with no predicted labels. Use `zero_division` parameter to control this behavior.\n",
      "  _warn_prf(average, modifier, msg_start, len(result))\n",
      "/usr/local/lib/python3.9/site-packages/sklearn/metrics/_classification.py:1248: UndefinedMetricWarning: Recall and F-score are ill-defined and being set to 0.0 in samples with no true labels. Use `zero_division` parameter to control this behavior.\n",
      "  _warn_prf(average, modifier, msg_start, len(result))\n"
     ]
    }
   ],
   "source": [
    "# print results of tuned model\n",
    "print(classification_report(Y_test, Y_pred_cv, target_names = Y.columns))"
   ]
  },
  {
   "cell_type": "markdown",
   "metadata": {},
   "source": [
    "### 8. Improve and test model by adding feature"
   ]
  },
  {
   "cell_type": "code",
   "execution_count": 13,
   "metadata": {},
   "outputs": [],
   "source": [
    "# define method to extract text length\n",
    "class TextLengthExtractor(BaseEstimator, TransformerMixin):\n",
    "    \n",
    "    def fit(self, X, y=None):\n",
    "        return self\n",
    "    \n",
    "    def transform(self, X):\n",
    "        return pd.DataFrame(pd.Series(X).apply(len))"
   ]
  },
  {
   "cell_type": "code",
   "execution_count": 14,
   "metadata": {},
   "outputs": [],
   "source": [
    "# modify pipeline to allow for additional feature\n",
    "pipeline2 = Pipeline([\n",
    "    ('features', FeatureUnion([\n",
    "        \n",
    "        ('text_pipeline', Pipeline([\n",
    "            ('vect', CountVectorizer(tokenizer=tokenize)),\n",
    "            ('tfidf', TfidfTransformer())                        \n",
    "        ])),   \n",
    "        \n",
    "        ('text_length', TextLengthExtractor())\n",
    "\n",
    "    ])),\n",
    "    ('clf', MultiOutputClassifier(RandomForestClassifier()))\n",
    "])"
   ]
  },
  {
   "cell_type": "code",
   "execution_count": 17,
   "metadata": {},
   "outputs": [
    {
     "name": "stdout",
     "output_type": "stream",
     "text": [
      "380.18575501441956\n"
     ]
    }
   ],
   "source": [
    "# train new pipeline\n",
    "t0 = time.time()\n",
    "pipeline2.fit(X_train, Y_train)\n",
    "Y_pred2 = pipeline2.predict(X_test)\n",
    "print(time.time() - t0)"
   ]
  },
  {
   "cell_type": "code",
   "execution_count": 18,
   "metadata": {},
   "outputs": [
    {
     "name": "stdout",
     "output_type": "stream",
     "text": [
      "                        precision    recall  f1-score   support\n",
      "\n",
      "               related       0.84      0.96      0.89      5075\n",
      "               request       0.86      0.51      0.64      1148\n",
      "                 offer       0.00      0.00      0.00        28\n",
      "           aid_related       0.75      0.72      0.73      2752\n",
      "          medical_help       0.61      0.09      0.15       489\n",
      "      medical_products       0.72      0.08      0.14       324\n",
      "     search_and_rescue       0.44      0.04      0.07       189\n",
      "              security       0.00      0.00      0.00       106\n",
      "              military       0.64      0.06      0.12       219\n",
      "           child_alone       0.00      0.00      0.00         0\n",
      "                 water       0.91      0.39      0.55       427\n",
      "                  food       0.85      0.59      0.70       766\n",
      "               shelter       0.80      0.40      0.54       583\n",
      "              clothing       0.71      0.11      0.20        88\n",
      "                 money       0.50      0.02      0.04       145\n",
      "        missing_people       0.00      0.00      0.00        71\n",
      "              refugees       0.64      0.03      0.06       226\n",
      "                 death       0.90      0.12      0.21       291\n",
      "             other_aid       0.70      0.03      0.05       878\n",
      "infrastructure_related       0.50      0.00      0.01       425\n",
      "             transport       0.78      0.10      0.17       298\n",
      "             buildings       0.69      0.16      0.26       308\n",
      "           electricity       0.67      0.01      0.03       143\n",
      "                 tools       0.00      0.00      0.00        38\n",
      "             hospitals       0.00      0.00      0.00        63\n",
      "                 shops       0.00      0.00      0.00        26\n",
      "           aid_centers       0.00      0.00      0.00        75\n",
      "  other_infrastructure       0.00      0.00      0.00       290\n",
      "       weather_related       0.85      0.72      0.78      1801\n",
      "                floods       0.90      0.48      0.63       550\n",
      "                 storm       0.75      0.52      0.61       588\n",
      "                  fire       1.00      0.03      0.05        77\n",
      "            earthquake       0.90      0.81      0.85       579\n",
      "                  cold       0.85      0.08      0.15       134\n",
      "         other_weather       0.44      0.03      0.06       352\n",
      "         direct_report       0.79      0.38      0.51      1303\n",
      "\n",
      "             micro avg       0.82      0.54      0.65     20855\n",
      "             macro avg       0.55      0.21      0.26     20855\n",
      "          weighted avg       0.76      0.54      0.58     20855\n",
      "           samples avg       0.68      0.50      0.53     20855\n",
      "\n"
     ]
    },
    {
     "name": "stderr",
     "output_type": "stream",
     "text": [
      "/usr/local/lib/python3.9/site-packages/sklearn/metrics/_classification.py:1248: UndefinedMetricWarning: Precision and F-score are ill-defined and being set to 0.0 in labels with no predicted samples. Use `zero_division` parameter to control this behavior.\n",
      "  _warn_prf(average, modifier, msg_start, len(result))\n",
      "/usr/local/lib/python3.9/site-packages/sklearn/metrics/_classification.py:1248: UndefinedMetricWarning: Recall and F-score are ill-defined and being set to 0.0 in labels with no true samples. Use `zero_division` parameter to control this behavior.\n",
      "  _warn_prf(average, modifier, msg_start, len(result))\n",
      "/usr/local/lib/python3.9/site-packages/sklearn/metrics/_classification.py:1248: UndefinedMetricWarning: Precision and F-score are ill-defined and being set to 0.0 in samples with no predicted labels. Use `zero_division` parameter to control this behavior.\n",
      "  _warn_prf(average, modifier, msg_start, len(result))\n",
      "/usr/local/lib/python3.9/site-packages/sklearn/metrics/_classification.py:1248: UndefinedMetricWarning: Recall and F-score are ill-defined and being set to 0.0 in samples with no true labels. Use `zero_division` parameter to control this behavior.\n",
      "  _warn_prf(average, modifier, msg_start, len(result))\n"
     ]
    }
   ],
   "source": [
    "# print evaluation results\n",
    "print(classification_report(Y_test, Y_pred2, target_names = Y.columns))"
   ]
  },
  {
   "cell_type": "code",
   "execution_count": 19,
   "metadata": {},
   "outputs": [],
   "source": [
    "# look for parameters of improved model using grid search\n",
    "parameters = {\n",
    "    'clf__estimator__n_estimators': [25, 50], #50\n",
    "    'clf__estimator__max_depth': [300, 400], #400\n",
    "    'clf__estimator__min_samples_split': [4, 6], #4\n",
    "}\n",
    "\n",
    "cv2 = GridSearchCV(pipeline2, param_grid=parameters)"
   ]
  },
  {
   "cell_type": "code",
   "execution_count": 20,
   "metadata": {},
   "outputs": [
    {
     "name": "stdout",
     "output_type": "stream",
     "text": [
      "4818.731374025345\n"
     ]
    }
   ],
   "source": [
    "t0 = time.time()\n",
    "cv2.fit(X_train,Y_train)\n",
    "Y_pred_cv2 = cv2.predict(X_test)\n",
    "print(time.time() - t0)"
   ]
  },
  {
   "cell_type": "code",
   "execution_count": 21,
   "metadata": {},
   "outputs": [
    {
     "data": {
      "text/plain": [
       "{'clf__estimator__max_depth': 400,\n",
       " 'clf__estimator__min_samples_split': 4,\n",
       " 'clf__estimator__n_estimators': 50}"
      ]
     },
     "execution_count": 21,
     "metadata": {},
     "output_type": "execute_result"
    }
   ],
   "source": [
    "cv2.best_params_"
   ]
  },
  {
   "cell_type": "code",
   "execution_count": 22,
   "metadata": {},
   "outputs": [
    {
     "name": "stdout",
     "output_type": "stream",
     "text": [
      "                        precision    recall  f1-score   support\n",
      "\n",
      "               related       0.83      0.96      0.89      5075\n",
      "               request       0.84      0.51      0.63      1148\n",
      "                 offer       0.00      0.00      0.00        28\n",
      "           aid_related       0.75      0.72      0.73      2752\n",
      "          medical_help       0.59      0.11      0.19       489\n",
      "      medical_products       0.75      0.09      0.16       324\n",
      "     search_and_rescue       0.52      0.07      0.13       189\n",
      "              security       0.00      0.00      0.00       106\n",
      "              military       0.65      0.07      0.12       219\n",
      "           child_alone       0.00      0.00      0.00         0\n",
      "                 water       0.91      0.38      0.54       427\n",
      "                  food       0.83      0.64      0.72       766\n",
      "               shelter       0.82      0.39      0.53       583\n",
      "              clothing       0.76      0.15      0.25        88\n",
      "                 money       0.50      0.02      0.04       145\n",
      "        missing_people       0.00      0.00      0.00        71\n",
      "              refugees       0.62      0.02      0.04       226\n",
      "                 death       0.90      0.18      0.30       291\n",
      "             other_aid       0.69      0.03      0.05       878\n",
      "infrastructure_related       0.00      0.00      0.00       425\n",
      "             transport       0.79      0.07      0.13       298\n",
      "             buildings       0.77      0.15      0.25       308\n",
      "           electricity       0.75      0.02      0.04       143\n",
      "                 tools       0.00      0.00      0.00        38\n",
      "             hospitals       0.00      0.00      0.00        63\n",
      "                 shops       0.00      0.00      0.00        26\n",
      "           aid_centers       0.00      0.00      0.00        75\n",
      "  other_infrastructure       0.00      0.00      0.00       290\n",
      "       weather_related       0.84      0.71      0.77      1801\n",
      "                floods       0.89      0.51      0.65       550\n",
      "                 storm       0.76      0.54      0.63       588\n",
      "                  fire       1.00      0.01      0.03        77\n",
      "            earthquake       0.90      0.79      0.84       579\n",
      "                  cold       0.71      0.09      0.16       134\n",
      "         other_weather       0.54      0.02      0.04       352\n",
      "         direct_report       0.79      0.39      0.52      1303\n",
      "\n",
      "             micro avg       0.81      0.55      0.66     20855\n",
      "             macro avg       0.55      0.21      0.26     20855\n",
      "          weighted avg       0.75      0.55      0.58     20855\n",
      "           samples avg       0.68      0.50      0.53     20855\n",
      "\n"
     ]
    },
    {
     "name": "stderr",
     "output_type": "stream",
     "text": [
      "/usr/local/lib/python3.9/site-packages/sklearn/metrics/_classification.py:1248: UndefinedMetricWarning: Precision and F-score are ill-defined and being set to 0.0 in labels with no predicted samples. Use `zero_division` parameter to control this behavior.\n",
      "  _warn_prf(average, modifier, msg_start, len(result))\n",
      "/usr/local/lib/python3.9/site-packages/sklearn/metrics/_classification.py:1248: UndefinedMetricWarning: Recall and F-score are ill-defined and being set to 0.0 in labels with no true samples. Use `zero_division` parameter to control this behavior.\n",
      "  _warn_prf(average, modifier, msg_start, len(result))\n",
      "/usr/local/lib/python3.9/site-packages/sklearn/metrics/_classification.py:1248: UndefinedMetricWarning: Precision and F-score are ill-defined and being set to 0.0 in samples with no predicted labels. Use `zero_division` parameter to control this behavior.\n",
      "  _warn_prf(average, modifier, msg_start, len(result))\n",
      "/usr/local/lib/python3.9/site-packages/sklearn/metrics/_classification.py:1248: UndefinedMetricWarning: Recall and F-score are ill-defined and being set to 0.0 in samples with no true labels. Use `zero_division` parameter to control this behavior.\n",
      "  _warn_prf(average, modifier, msg_start, len(result))\n"
     ]
    }
   ],
   "source": [
    "print(classification_report(Y_test, Y_pred_cv2, target_names = Y.columns))"
   ]
  },
  {
   "cell_type": "markdown",
   "metadata": {},
   "source": [
    "### 9. Export model as a pickle file"
   ]
  },
  {
   "cell_type": "code",
   "execution_count": 24,
   "metadata": {},
   "outputs": [],
   "source": [
    "pickle.dump(pipeline2, open('classifier.pkl', 'wb')) "
   ]
  }
 ],
 "metadata": {
  "kernelspec": {
   "display_name": "Python 3 (ipykernel)",
   "language": "python",
   "name": "python3"
  },
  "language_info": {
   "codemirror_mode": {
    "name": "ipython",
    "version": 3
   },
   "file_extension": ".py",
   "mimetype": "text/x-python",
   "name": "python",
   "nbconvert_exporter": "python",
   "pygments_lexer": "ipython3",
   "version": "3.9.6"
  }
 },
 "nbformat": 4,
 "nbformat_minor": 2
}
